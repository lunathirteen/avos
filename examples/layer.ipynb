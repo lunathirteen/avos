{
 "cells": [
  {
   "cell_type": "code",
   "execution_count": 10,
   "metadata": {},
   "outputs": [],
   "source": [
    "from avos.config import Layer, ExperimentConfig"
   ]
  },
  {
   "cell_type": "code",
   "execution_count": 11,
   "metadata": {},
   "outputs": [
    {
     "name": "stdout",
     "output_type": "stream",
     "text": [
      "🔧 СОЗДАНИЕ СЛОЯ С БАКЕТИЗАЦИЕЙ\n",
      "==================================================\n",
      "Создан слой с 100 слотами\n",
      "Свободных слотов: 100\n"
     ]
    }
   ],
   "source": [
    "print(\"🔧 СОЗДАНИЕ СЛОЯ С БАКЕТИЗАЦИЕЙ\")\n",
    "print(\"=\" * 50)\n",
    "\n",
    "# Создаем слой со 100 бакетами (каждый бакет = 1% трафика)\n",
    "layer = Layer(\"ui_experiments\", \"ui_salt_2025\", total_slots=100)\n",
    "\n",
    "print(f\"Создан слой с {layer.total_slots} слотами\")\n",
    "print(f\"Свободных слотов: {layer.get_free_slots_count()}\")"
   ]
  },
  {
   "cell_type": "code",
   "execution_count": 12,
   "metadata": {},
   "outputs": [
    {
     "name": "stdout",
     "output_type": "stream",
     "text": [
      "\n",
      "📊 ДОБАВЛЕНИЕ ЭКСПЕРИМЕНТОВ\n",
      "==================================================\n"
     ]
    },
    {
     "ename": "TypeError",
     "evalue": "list indices must be integers or slices, not str",
     "output_type": "error",
     "traceback": [
      "\u001b[31m---------------------------------------------------------------------------\u001b[39m",
      "\u001b[31mTypeError\u001b[39m                                 Traceback (most recent call last)",
      "\u001b[36mCell\u001b[39m\u001b[36m \u001b[39m\u001b[32mIn[12]\u001b[39m\u001b[32m, line 29\u001b[39m\n\u001b[32m     13\u001b[39m layout_exp = ExperimentConfig(\n\u001b[32m     14\u001b[39m     experiment_id=\u001b[33m\"\u001b[39m\u001b[33mlayout_test\u001b[39m\u001b[33m\"\u001b[39m,\n\u001b[32m     15\u001b[39m     name=\u001b[33m\"\u001b[39m\u001b[33mLayout Experiment\u001b[39m\u001b[33m\"\u001b[39m,\n\u001b[32m   (...)\u001b[39m\u001b[32m     18\u001b[39m     traffic_percentage=\u001b[32m25\u001b[39m  \u001b[38;5;66;03m# Нужно 25 бакетов = 25% трафика\u001b[39;00m\n\u001b[32m     19\u001b[39m )\n\u001b[32m     21\u001b[39m pricing_exp = ExperimentConfig(\n\u001b[32m     22\u001b[39m     experiment_id=\u001b[33m\"\u001b[39m\u001b[33mpricing_test\u001b[39m\u001b[33m\"\u001b[39m,\n\u001b[32m     23\u001b[39m     name=\u001b[33m\"\u001b[39m\u001b[33mPricing Test\u001b[39m\u001b[33m\"\u001b[39m,\n\u001b[32m   (...)\u001b[39m\u001b[32m     26\u001b[39m     traffic_percentage=\u001b[32m40\u001b[39m  \u001b[38;5;66;03m# Нужно 40 бакетов = 40% трафика\u001b[39;00m\n\u001b[32m     27\u001b[39m )\n\u001b[32m---> \u001b[39m\u001b[32m29\u001b[39m success1 = \u001b[43mlayer\u001b[49m\u001b[43m.\u001b[49m\u001b[43madd_experiment\u001b[49m\u001b[43m(\u001b[49m\u001b[43mbutton_exp\u001b[49m\u001b[43m)\u001b[49m\n\u001b[32m     30\u001b[39m success2 = layer.add_experiment(layout_exp)\n\u001b[32m     31\u001b[39m success3 = layer.add_experiment(pricing_exp)\n",
      "\u001b[36mFile \u001b[39m\u001b[32m~/Code/avos/src/avos/config.py:104\u001b[39m, in \u001b[36mLayer.add_experiment\u001b[39m\u001b[34m(self, experiment)\u001b[39m\n\u001b[32m    101\u001b[39m     \u001b[38;5;28mself\u001b[39m.slots[slot_id] = experiment.experiment_id\n\u001b[32m    103\u001b[39m \u001b[38;5;66;03m# Сохраняем конфигурацию эксперимента\u001b[39;00m\n\u001b[32m--> \u001b[39m\u001b[32m104\u001b[39m \u001b[38;5;28;43mself\u001b[39;49m\u001b[43m.\u001b[49m\u001b[43mexperiments\u001b[49m\u001b[43m[\u001b[49m\u001b[43mexperiment\u001b[49m\u001b[43m.\u001b[49m\u001b[43mexperiment_id\u001b[49m\u001b[43m]\u001b[49m = experiment\n\u001b[32m    106\u001b[39m \u001b[38;5;28mprint\u001b[39m(\u001b[33mf\u001b[39m\u001b[33m\"\u001b[39m\u001b[33m✅ Experiment \u001b[39m\u001b[38;5;132;01m{\u001b[39;00mexperiment.experiment_id\u001b[38;5;132;01m}\u001b[39;00m\u001b[33m assigned slots: \u001b[39m\u001b[38;5;132;01m{\u001b[39;00massigned_slots\u001b[38;5;132;01m}\u001b[39;00m\u001b[33m\"\u001b[39m)\n\u001b[32m    107\u001b[39m \u001b[38;5;28;01mreturn\u001b[39;00m \u001b[38;5;28;01mTrue\u001b[39;00m\n",
      "\u001b[31mTypeError\u001b[39m: list indices must be integers or slices, not str"
     ]
    }
   ],
   "source": [
    "print(\"\\n📊 ДОБАВЛЕНИЕ ЭКСПЕРИМЕНТОВ\")\n",
    "print(\"=\" * 50)\n",
    "\n",
    "# Создаем эксперименты\n",
    "button_exp = ExperimentConfig(\n",
    "    experiment_id=\"button_color\",\n",
    "    name=\"Button Color Test\",\n",
    "    variants=[\"control\", \"treatment\"],\n",
    "    traffic_allocation={\"control\": 50.0, \"treatment\": 50.0},\n",
    "    traffic_percentage=30  # Нужно 30 бакетов = 30% трафика\n",
    ")\n",
    "\n",
    "layout_exp = ExperimentConfig(\n",
    "    experiment_id=\"layout_test\",\n",
    "    name=\"Layout Experiment\",\n",
    "    variants=[\"old\", \"new\"],\n",
    "    traffic_allocation={\"old\": 60.0, \"new\": 40.0},\n",
    "    traffic_percentage=25  # Нужно 25 бакетов = 25% трафика\n",
    ")\n",
    "\n",
    "pricing_exp = ExperimentConfig(\n",
    "    experiment_id=\"pricing_test\",\n",
    "    name=\"Pricing Test\",\n",
    "    variants=[\"current\", \"discount_5\", \"discount_10\"],\n",
    "    traffic_allocation={\"current\": 50.0, \"discount_5\": 25.0, \"discount_10\": 25.0},\n",
    "    traffic_percentage=40  # Нужно 40 бакетов = 40% трафика\n",
    ")\n",
    "\n",
    "success1 = layer.add_experiment(button_exp)\n",
    "success2 = layer.add_experiment(layout_exp)\n",
    "success3 = layer.add_experiment(pricing_exp)\n",
    "\n",
    "print(f\"Результаты добавления: {success1}, {success2}, {success3}\")"
   ]
  },
  {
   "cell_type": "code",
   "execution_count": null,
   "metadata": {},
   "outputs": [
    {
     "name": "stdout",
     "output_type": "stream",
     "text": [
      "\n",
      "📈 ИНФОРМАЦИЯ О СЛОЕ\n",
      "==================================================\n",
      "layer_id                 : ui_experiments\n",
      "total_slots              : 100\n",
      "free_slots               : 5\n",
      "used_slots               : 95\n",
      "utilization_percentage   : 95.0\n",
      "active_experiments       : 3\n",
      "experiment_slots         : {'button_color': 30, 'layout_test': 25, 'pricing_test': 40}\n"
     ]
    }
   ],
   "source": [
    "print(\"\\n📈 ИНФОРМАЦИЯ О СЛОЕ\")\n",
    "print(\"=\" * 50)\n",
    "\n",
    "info = layer.get_layer_info()\n",
    "for key, value in info.items():\n",
    "    print(f\"{key:25}: {value}\")"
   ]
  },
  {
   "cell_type": "code",
   "execution_count": null,
   "metadata": {},
   "outputs": [
    {
     "data": {
      "text/plain": [
       "{'experiment_id': 'button_color',\n",
       " 'variant': 'treatment',\n",
       " 'status': 'assigned',\n",
       " 'bucket_id': 17,\n",
       " 'experiment_name': 'Button Color Test'}"
      ]
     },
     "execution_count": 33,
     "metadata": {},
     "output_type": "execute_result"
    }
   ],
   "source": [
    "layer.get_user_assignment('user_123456')"
   ]
  }
 ],
 "metadata": {
  "kernelspec": {
   "display_name": ".venv",
   "language": "python",
   "name": "python3"
  },
  "language_info": {
   "codemirror_mode": {
    "name": "ipython",
    "version": 3
   },
   "file_extension": ".py",
   "mimetype": "text/x-python",
   "name": "python",
   "nbconvert_exporter": "python",
   "pygments_lexer": "ipython3",
   "version": "3.12.3"
  }
 },
 "nbformat": 4,
 "nbformat_minor": 2
}
