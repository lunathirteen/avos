{
 "cells": [
  {
   "cell_type": "code",
   "execution_count": 1,
   "metadata": {},
   "outputs": [],
   "source": [
    "from avos.config import Layer, ExperimentConfig"
   ]
  },
  {
   "cell_type": "code",
   "execution_count": 2,
   "metadata": {},
   "outputs": [
    {
     "name": "stdout",
     "output_type": "stream",
     "text": [
      "🔧 СОЗДАНИЕ СЛОЯ С БАКЕТИЗАЦИЕЙ\n",
      "==================================================\n",
      "Создан слой с 100 слотами\n",
      "Свободных слотов: 100\n"
     ]
    }
   ],
   "source": [
    "print(\"🔧 СОЗДАНИЕ СЛОЯ С БАКЕТИЗАЦИЕЙ\")\n",
    "print(\"=\" * 50)\n",
    "\n",
    "# Создаем слой со 100 бакетами (каждый бакет = 1% трафика)\n",
    "layer = Layer(\"ui_experiments\", \"ui_salt_2025\", total_slots=100)\n",
    "\n",
    "print(f\"Создан слой с {layer.total_slots} слотами\")\n",
    "print(f\"Свободных слотов: {layer.get_free_slots_count()}\")"
   ]
  },
  {
   "cell_type": "code",
   "execution_count": 3,
   "metadata": {},
   "outputs": [
    {
     "name": "stdout",
     "output_type": "stream",
     "text": [
      "\n",
      "📊 ДОБАВЛЕНИЕ ЭКСПЕРИМЕНТОВ\n",
      "==================================================\n",
      "✅ Experiment button_color assigned slots: [0, 1, 2, 3, 4, 5, 6, 7, 8, 9, 10, 11, 12, 13, 14, 15, 16, 17, 18, 19, 20, 21, 22, 23, 24, 25, 26, 27, 28, 29]\n",
      "✅ Experiment layout_test assigned slots: [30, 31, 32, 33, 34, 35, 36, 37, 38, 39, 40, 41, 42, 43, 44, 45, 46, 47, 48, 49, 50, 51, 52, 53, 54]\n",
      "✅ Experiment pricing_test assigned slots: [55, 56, 57, 58, 59, 60, 61, 62, 63, 64, 65, 66, 67, 68, 69, 70, 71, 72, 73, 74, 75, 76, 77, 78, 79, 80, 81, 82, 83, 84, 85, 86, 87, 88, 89, 90, 91, 92, 93, 94]\n",
      "Результаты добавления: True, True, True\n"
     ]
    }
   ],
   "source": [
    "print(\"\\n📊 ДОБАВЛЕНИЕ ЭКСПЕРИМЕНТОВ\")\n",
    "print(\"=\" * 50)\n",
    "\n",
    "# Создаем эксперименты\n",
    "button_exp = ExperimentConfig(\n",
    "    experiment_id=\"button_color\",\n",
    "    name=\"Button Color Test\",\n",
    "    variants=[\"control\", \"treatment\"],\n",
    "    traffic_allocation={\"control\": 50.0, \"treatment\": 50.0},\n",
    "    traffic_percentage=30  # Нужно 30 бакетов = 30% трафика\n",
    ")\n",
    "\n",
    "layout_exp = ExperimentConfig(\n",
    "    experiment_id=\"layout_test\",\n",
    "    name=\"Layout Experiment\",\n",
    "    variants=[\"old\", \"new\"],\n",
    "    traffic_allocation={\"old\": 60.0, \"new\": 40.0},\n",
    "    traffic_percentage=25  # Нужно 25 бакетов = 25% трафика\n",
    ")\n",
    "\n",
    "pricing_exp = ExperimentConfig(\n",
    "    experiment_id=\"pricing_test\",\n",
    "    name=\"Pricing Test\",\n",
    "    variants=[\"current\", \"discount_5\", \"discount_10\"],\n",
    "    traffic_allocation={\"current\": 50.0, \"discount_5\": 25.0, \"discount_10\": 25.0},\n",
    "    traffic_percentage=40  # Нужно 40 бакетов = 40% трафика\n",
    ")\n",
    "\n",
    "success1 = layer.add_experiment(button_exp)\n",
    "success2 = layer.add_experiment(layout_exp)\n",
    "success3 = layer.add_experiment(pricing_exp)\n",
    "\n",
    "print(f\"Результаты добавления: {success1}, {success2}, {success3}\")"
   ]
  },
  {
   "cell_type": "code",
   "execution_count": 4,
   "metadata": {},
   "outputs": [
    {
     "name": "stdout",
     "output_type": "stream",
     "text": [
      "\n",
      "📈 ИНФОРМАЦИЯ О СЛОЕ\n",
      "==================================================\n",
      "layer_id                 : ui_experiments\n",
      "total_slots              : 100\n",
      "free_slots               : 5\n",
      "used_slots               : 95\n",
      "utilization_percentage   : 95.0\n",
      "active_experiments       : 3\n",
      "experiment_slots         : {'button_color': 30, 'layout_test': 25, 'pricing_test': 40}\n"
     ]
    }
   ],
   "source": [
    "print(\"\\n📈 ИНФОРМАЦИЯ О СЛОЕ\")\n",
    "print(\"=\" * 50)\n",
    "\n",
    "info = layer.get_layer_info()\n",
    "for key, value in info.items():\n",
    "    print(f\"{key:25}: {value}\")"
   ]
  },
  {
   "cell_type": "code",
   "execution_count": 5,
   "metadata": {},
   "outputs": [
    {
     "data": {
      "text/plain": [
       "{'unit_id': 'user_123456',\n",
       " 'experiment_id': 'button_color',\n",
       " 'variant': 'treatment',\n",
       " 'status': 'assigned',\n",
       " 'bucket_id': 17,\n",
       " 'experiment_name': 'Button Color Test'}"
      ]
     },
     "execution_count": 5,
     "metadata": {},
     "output_type": "execute_result"
    }
   ],
   "source": [
    "layer.get_user_assignment('user_123456')"
   ]
  },
  {
   "cell_type": "code",
   "execution_count": null,
   "metadata": {},
   "outputs": [],
   "source": []
  }
 ],
 "metadata": {
  "kernelspec": {
   "display_name": ".venv",
   "language": "python",
   "name": "python3"
  },
  "language_info": {
   "codemirror_mode": {
    "name": "ipython",
    "version": 3
   },
   "file_extension": ".py",
   "mimetype": "text/x-python",
   "name": "python",
   "nbconvert_exporter": "python",
   "pygments_lexer": "ipython3",
   "version": "3.12.3"
  }
 },
 "nbformat": 4,
 "nbformat_minor": 2
}
